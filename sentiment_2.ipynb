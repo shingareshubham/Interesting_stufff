{
 "cells": [
  {
   "cell_type": "code",
   "execution_count": 1,
   "metadata": {
    "collapsed": true
   },
   "outputs": [],
   "source": [
    "from textblob import TextBlob\n",
    "import sys\n",
    "import tweepy\n",
    "import matplotlib.pyplot as plt"
   ]
  },
  {
   "cell_type": "code",
   "execution_count": 2,
   "metadata": {
    "collapsed": true
   },
   "outputs": [],
   "source": [
    "def percentage(part, whole):\n",
    "    return (float(part) / float(whole))*100"
   ]
  },
  {
   "cell_type": "code",
   "execution_count": 11,
   "metadata": {
    "collapsed": true
   },
   "outputs": [],
   "source": [
    "consumerKey =\"2O2G3Pvyx9NSiOzs71d4YnWef\"\n",
    "consumerSecret =\"ecECM8PQUBwnKQqbdfyMEa37u1jplCpAo1xW2KqEk9X9o0GIHT\"\n",
    "accessToken =\"300161933-cXMvK3oxn7xk3Vs9Kbqg3CCkGBAni1DaJc8ckqbb\"\n",
    "accessTokenSecret =\"ssyzYCwh4b61p3L3XYscA0ydRhrSH7h0sU3AoLbxFSqpk\"\n",
    "\n",
    "auth =tweepy.OAuthHandler(consumer_key = consumerKey, consumer_secret=consumerSecret)\n",
    "auth.set_access_token(accessToken, accessTokenSecret)\n",
    "api = tweepy.API(auth)"
   ]
  },
  {
   "cell_type": "code",
   "execution_count": 12,
   "metadata": {
    "collapsed": true
   },
   "outputs": [],
   "source": [
    "auth =tweepy.OAuthHandler(consumer_key = consumerKey, consumer_secret=consumerSecret)\n",
    "auth.set_access_token(accessToken, accessTokenSecret)\n",
    "api = tweepy.API(auth)"
   ]
  },
  {
   "cell_type": "code",
   "execution_count": 13,
   "metadata": {},
   "outputs": [
    {
     "name": "stdout",
     "output_type": "stream",
     "text": [
      "Enter keyword / hashtag to search : kejriwal\n",
      "Enter how many tweet to analyze : 1000\n"
     ]
    }
   ],
   "source": [
    "searchTerm = input('Enter keyword / hashtag to search : ')\n",
    "noOfSearchTerm = int(input('Enter how many tweet to analyze : '))"
   ]
  },
  {
   "cell_type": "code",
   "execution_count": 14,
   "metadata": {
    "collapsed": true
   },
   "outputs": [],
   "source": [
    "tweets = tweepy.Cursor(api.search, q=searchTerm).items(noOfSearchTerm)"
   ]
  },
  {
   "cell_type": "code",
   "execution_count": 15,
   "metadata": {
    "collapsed": true
   },
   "outputs": [],
   "source": [
    "positive = 0\n",
    "negative = 0\n",
    "neutral = 0\n",
    "polarity = 0"
   ]
  },
  {
   "cell_type": "code",
   "execution_count": 16,
   "metadata": {
    "collapsed": true
   },
   "outputs": [],
   "source": [
    "# for printing tweets\n",
    "#for tweet in tweets:\n",
    " #   print(tweet.text)\n",
    "  #  analysis = TextBlob(tweet.text)"
   ]
  },
  {
   "cell_type": "code",
   "execution_count": 17,
   "metadata": {},
   "outputs": [],
   "source": [
    "# for printing tweets\n",
    "\n",
    "for tweet in tweets:\n",
    "    # print(tweet.text)\n",
    "    analysis = TextBlob(tweet.text)\n",
    "    polarity += analysis.sentiment.polarity\n",
    "    \n",
    "    if (analysis.sentiment.polarity == 0):\n",
    "        neutral +=1\n",
    "    if (analysis.sentiment.polarity < 0.00):\n",
    "        negative +=1\n",
    "    if (analysis.sentiment.polarity > 0.00):\n",
    "        positive +=1"
   ]
  },
  {
   "cell_type": "code",
   "execution_count": 18,
   "metadata": {
    "collapsed": true
   },
   "outputs": [],
   "source": [
    "positive = percentage(positive, noOfSearchTerm)\n",
    "negative = percentage(negative, noOfSearchTerm)\n",
    "neutral = percentage(neutral, noOfSearchTerm)\n",
    "polarity = percentage(polarity, noOfSearchTerm)"
   ]
  },
  {
   "cell_type": "code",
   "execution_count": 19,
   "metadata": {
    "collapsed": true
   },
   "outputs": [],
   "source": [
    "positive = format(positive, '.2f')\n",
    "neutral = format(neutral, '.2f')\n",
    "negative = format(negative, '.2f')"
   ]
  },
  {
   "cell_type": "code",
   "execution_count": 20,
   "metadata": {},
   "outputs": [
    {
     "name": "stdout",
     "output_type": "stream",
     "text": [
      "Peoples re-action on kejriwal by analyze 1000 tweets\n"
     ]
    }
   ],
   "source": [
    "print(\"Peoples re-action on \"+ searchTerm + \" by analyze \" + str(noOfSearchTerm) + \" tweets\")"
   ]
  },
  {
   "cell_type": "code",
   "execution_count": 21,
   "metadata": {},
   "outputs": [
    {
     "name": "stdout",
     "output_type": "stream",
     "text": [
      "Positive\n"
     ]
    }
   ],
   "source": [
    "if (polarity == 0):\n",
    "    print(\"Neutral\")\n",
    "elif (polarity < 0.00):\n",
    "    print(\"Negative\")\n",
    "elif (polarity > 0.00):\n",
    "    print(\"Positive\")"
   ]
  },
  {
   "cell_type": "code",
   "execution_count": 22,
   "metadata": {},
   "outputs": [
    {
     "data": {
      "image/png": "[encoded data removed]",
      "text/plain": [
       "<matplotlib.figure.Figure at 0x1799d68e710>"
      ]
     },
     "metadata": {},
     "output_type": "display_data"
    }
   ],
   "source": [
    "labels = ['Positive ['+str(positive)+'%]'],['Neutral ['+str(neutral)+'%]'],['Negative ['+str(negative)+'%]']\n",
    "sizes = [positive, neutral, negative]\n",
    "colors = ['yellow', 'green', 'red']\n",
    "patches, texts = plt.pie(sizes, colors=colors, startangle=90)\n",
    "plt.legend(patches, labels, loc = 'best')\n",
    "plt.title('Peoples re-action on' + searchTerm + ' by analyze ' + str(noOfSearchTerm) + ' tweets')\n",
    "plt.axis('equal')\n",
    "plt.tight_layout()\n",
    "plt.show()"
   ]
  },
  {
   "cell_type": "code",
   "execution_count": null,
   "metadata": {
    "collapsed": true
   },
   "outputs": [],
   "source": []
  }
 ],
 "metadata": {
  "kernelspec": {
   "display_name": "Python 3",
   "language": "python",
   "name": "python3"
  },
  "language_info": {
   "codemirror_mode": {
    "name": "ipython",
    "version": 3
   },
   "file_extension": ".py",
   "mimetype": "text/x-python",
   "name": "python",
   "nbconvert_exporter": "python",
   "pygments_lexer": "ipython3",
   "version": "3.6.4"
  }
 },
 "nbformat": 4,
 "nbformat_minor": 2
}
